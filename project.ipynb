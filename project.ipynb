{
 "cells": [
  {
   "cell_type": "code",
   "execution_count": 1,
   "id": "78316bc5-2244-43e2-966b-bc4f04cc900e",
   "metadata": {},
   "outputs": [],
   "source": [
    "from pyspark.sql import SparkSession\n",
    "\n",
    "# Create Spark session\n",
    "spark = SparkSession.builder \\\n",
    "    .appName(\"AutoSalesAnalysis\") \\\n",
    "    .getOrCreate()\n"
   ]
  },
  {
   "cell_type": "code",
   "execution_count": 6,
   "id": "c603fcce-0928-40cf-9309-81a9d6677594",
   "metadata": {},
   "outputs": [
    {
     "name": "stdout",
     "output_type": "stream",
     "text": [
      "+-----------+---------------+---------+---------------+-------+----------+--------------------+-------+-----------+----+-----------+--------------------+----------------+--------------------+----------+----------+-------+---------------+----------------+--------+\n",
      "|ORDERNUMBER|QUANTITYORDERED|PRICEEACH|ORDERLINENUMBER|  SALES| ORDERDATE|DAYS_SINCE_LASTORDER| STATUS|PRODUCTLINE|MSRP|PRODUCTCODE|        CUSTOMERNAME|           PHONE|        ADDRESSLINE1|      CITY|POSTALCODE|COUNTRY|CONTACTLASTNAME|CONTACTFIRSTNAME|DEALSIZE|\n",
      "+-----------+---------------+---------+---------------+-------+----------+--------------------+-------+-----------+----+-----------+--------------------+----------------+--------------------+----------+----------+-------+---------------+----------------+--------+\n",
      "|      10107|             30|     95.7|              2| 2871.0|24/02/2018|                 828|Shipped|Motorcycles|  95|   S10_1678|   Land of Toys Inc.|      2125557818|897 Long Airport ...|       NYC|     10022|    USA|             Yu|            Kwai|   Small|\n",
      "|      10121|             34|    81.35|              5| 2765.9|07/05/2018|                 757|Shipped|Motorcycles|  95|   S10_1678|  Reims Collectables|      26.47.1555|  59 rue de l'Abbaye|     Reims|     51100| France|        Henriot|            Paul|   Small|\n",
      "|      10134|             41|    94.74|              2|3884.34|01/07/2018|                 703|Shipped|Motorcycles|  95|   S10_1678|     Lyon Souveniers|+33 1 46 62 7555|27 rue du Colonel...|     Paris|     75508| France|       Da Cunha|          Daniel|  Medium|\n",
      "|      10145|             45|    83.26|              6| 3746.7|25/08/2018|                 649|Shipped|Motorcycles|  95|   S10_1678|   Toys4GrownUps.com|      6265557265|  78934 Hillside Dr.|  Pasadena|     90003|    USA|          Young|           Julie|  Medium|\n",
      "|      10168|             36|    96.66|              1|3479.76|28/10/2018|                 586|Shipped|Motorcycles|  95|   S10_1678|Technics Stores Inc.|      6505556809|   9408 Furth Circle|Burlingame|     94217|    USA|         Hirano|            Juri|  Medium|\n",
      "+-----------+---------------+---------+---------------+-------+----------+--------------------+-------+-----------+----+-----------+--------------------+----------------+--------------------+----------+----------+-------+---------------+----------------+--------+\n",
      "only showing top 5 rows\n",
      "\n"
     ]
    }
   ],
   "source": [
    "# Load the CSV file\n",
    "data = spark.read.csv(r\"C:\\BigData\\Auto Sales data.csv\", header=True, inferSchema=True)\n",
    "\n",
    "# Show the first few rows to verify the data is loaded correctly\n",
    "data.show(5)\n"
   ]
  },
  {
   "cell_type": "code",
   "execution_count": 7,
   "id": "c2f50396-f861-45c4-b94e-06520c7ea10b",
   "metadata": {},
   "outputs": [
    {
     "name": "stdout",
     "output_type": "stream",
     "text": [
      "root\n",
      " |-- ORDERNUMBER: integer (nullable = true)\n",
      " |-- QUANTITYORDERED: integer (nullable = true)\n",
      " |-- PRICEEACH: double (nullable = true)\n",
      " |-- ORDERLINENUMBER: integer (nullable = true)\n",
      " |-- SALES: double (nullable = true)\n",
      " |-- ORDERDATE: string (nullable = true)\n",
      " |-- DAYS_SINCE_LASTORDER: integer (nullable = true)\n",
      " |-- STATUS: string (nullable = true)\n",
      " |-- PRODUCTLINE: string (nullable = true)\n",
      " |-- MSRP: integer (nullable = true)\n",
      " |-- PRODUCTCODE: string (nullable = true)\n",
      " |-- CUSTOMERNAME: string (nullable = true)\n",
      " |-- PHONE: string (nullable = true)\n",
      " |-- ADDRESSLINE1: string (nullable = true)\n",
      " |-- CITY: string (nullable = true)\n",
      " |-- POSTALCODE: string (nullable = true)\n",
      " |-- COUNTRY: string (nullable = true)\n",
      " |-- CONTACTLASTNAME: string (nullable = true)\n",
      " |-- CONTACTFIRSTNAME: string (nullable = true)\n",
      " |-- DEALSIZE: string (nullable = true)\n",
      "\n"
     ]
    }
   ],
   "source": [
    "data.printSchema()\n"
   ]
  },
  {
   "cell_type": "code",
   "execution_count": 8,
   "id": "4abfeb36-528a-435e-b88e-055b9eff8312",
   "metadata": {},
   "outputs": [
    {
     "name": "stdout",
     "output_type": "stream",
     "text": [
      "+-----------+---------------+---------+---------------+-------+----------+--------------------+-------+-----------+----+-----------+--------------------+----------------+--------------------+----------+----------+-------+---------------+----------------+--------+\n",
      "|ORDERNUMBER|QUANTITYORDERED|PRICEEACH|ORDERLINENUMBER|  SALES| ORDERDATE|DAYS_SINCE_LASTORDER| STATUS|PRODUCTLINE|MSRP|PRODUCTCODE|        CUSTOMERNAME|           PHONE|        ADDRESSLINE1|      CITY|POSTALCODE|COUNTRY|CONTACTLASTNAME|CONTACTFIRSTNAME|DEALSIZE|\n",
      "+-----------+---------------+---------+---------------+-------+----------+--------------------+-------+-----------+----+-----------+--------------------+----------------+--------------------+----------+----------+-------+---------------+----------------+--------+\n",
      "|      10107|             30|     95.7|              2| 2871.0|2018-02-24|                 828|Shipped|Motorcycles|  95|   S10_1678|   Land of Toys Inc.|      2125557818|897 Long Airport ...|       NYC|     10022|    USA|             Yu|            Kwai|   Small|\n",
      "|      10121|             34|    81.35|              5| 2765.9|2018-05-07|                 757|Shipped|Motorcycles|  95|   S10_1678|  Reims Collectables|      26.47.1555|  59 rue de l'Abbaye|     Reims|     51100| France|        Henriot|            Paul|   Small|\n",
      "|      10134|             41|    94.74|              2|3884.34|2018-07-01|                 703|Shipped|Motorcycles|  95|   S10_1678|     Lyon Souveniers|+33 1 46 62 7555|27 rue du Colonel...|     Paris|     75508| France|       Da Cunha|          Daniel|  Medium|\n",
      "|      10145|             45|    83.26|              6| 3746.7|2018-08-25|                 649|Shipped|Motorcycles|  95|   S10_1678|   Toys4GrownUps.com|      6265557265|  78934 Hillside Dr.|  Pasadena|     90003|    USA|          Young|           Julie|  Medium|\n",
      "|      10168|             36|    96.66|              1|3479.76|2018-10-28|                 586|Shipped|Motorcycles|  95|   S10_1678|Technics Stores Inc.|      6505556809|   9408 Furth Circle|Burlingame|     94217|    USA|         Hirano|            Juri|  Medium|\n",
      "+-----------+---------------+---------+---------------+-------+----------+--------------------+-------+-----------+----+-----------+--------------------+----------------+--------------------+----------+----------+-------+---------------+----------------+--------+\n",
      "only showing top 5 rows\n",
      "\n"
     ]
    }
   ],
   "source": [
    "from pyspark.sql.functions import to_date\n",
    "\n",
    "data = data.withColumn(\"ORDERDATE\", to_date(data[\"ORDERDATE\"], \"dd/MM/yyyy\"))\n",
    "data.show(5)\n"
   ]
  },
  {
   "cell_type": "code",
   "execution_count": 9,
   "id": "5d4c092f-4da7-462f-843d-710d3a002a6f",
   "metadata": {},
   "outputs": [
    {
     "name": "stdout",
     "output_type": "stream",
     "text": [
      "+-------+------------------+-----------------+------------------+------------------+-----------------+--------------------+---------+------------+------------------+-----------+-----------------+--------------------+--------------------+------------+------------------+---------+---------------+----------------+--------+\n",
      "|summary|       ORDERNUMBER|  QUANTITYORDERED|         PRICEEACH|   ORDERLINENUMBER|            SALES|DAYS_SINCE_LASTORDER|   STATUS| PRODUCTLINE|              MSRP|PRODUCTCODE|     CUSTOMERNAME|               PHONE|        ADDRESSLINE1|        CITY|        POSTALCODE|  COUNTRY|CONTACTLASTNAME|CONTACTFIRSTNAME|DEALSIZE|\n",
      "+-------+------------------+-----------------+------------------+------------------+-----------------+--------------------+---------+------------+------------------+-----------+-----------------+--------------------+--------------------+------------+------------------+---------+---------------+----------------+--------+\n",
      "|  count|              2747|             2747|              2747|              2747|             2747|                2747|     2747|        2747|              2747|       2747|             2747|                2747|                2747|        2747|              2747|     2747|           2747|            2747|    2747|\n",
      "|   mean|10259.761558063341|35.10302147797597|101.09895158354611|6.4910811794685115|3553.047582817625|   1757.085911903895|     NULL|        NULL|100.69166363305425|       NULL|             NULL|  4.34007032967888E9|                NULL|        NULL|46823.061787905346|     NULL|           NULL|            NULL|    NULL|\n",
      "| stddev| 91.87752071650712| 9.76213542350499|42.042549247894996| 4.230543549164277|1838.953900544868|   819.2805762875178|     NULL|        NULL| 40.11480174959152|       NULL|             NULL|1.9395983638940177E9|                NULL|        NULL| 33486.50903171618|     NULL|           NULL|            NULL|    NULL|\n",
      "|    min|             10100|                6|             26.88|                 1|           482.13|                  42|Cancelled|Classic Cars|                33|   S10_1678|   AV Stores, Co.|        (02) 5554 67|1 rue Alsace-Lorr...|     Aaarhus|             10022|Australia|        Accorti|          Adrian|   Large|\n",
      "|    max|             10425|               97|            252.87|                18|          14082.8|                3562|  Shipped|Vintage Cars|               214|   S72_3212|giftsbymail.co.uk|          981-443655|        Vinb'ltet 34|White Plains|           WX3 6FW|      USA|             Yu|           Yoshi|   Small|\n",
      "+-------+------------------+-----------------+------------------+------------------+-----------------+--------------------+---------+------------+------------------+-----------+-----------------+--------------------+--------------------+------------+------------------+---------+---------------+----------------+--------+\n",
      "\n"
     ]
    }
   ],
   "source": [
    "data.select([data.columns[i] for i in range(len(data.columns))]).describe().show()\n"
   ]
  },
  {
   "cell_type": "code",
   "execution_count": 11,
   "id": "d7874475-4344-42d2-88ed-44e03276436f",
   "metadata": {},
   "outputs": [
    {
     "name": "stdout",
     "output_type": "stream",
     "text": [
      "+----+-----+------------------+\n",
      "|Year|Month|        TotalSales|\n",
      "+----+-----+------------------+\n",
      "|2018|    1|          129753.6|\n",
      "|2018|    2|140836.19000000003|\n",
      "|2018|    3|155809.31999999998|\n",
      "|2018|    4|201609.55000000002|\n",
      "|2018|    5|         192673.11|\n",
      "|2018|    6|168082.55999999997|\n",
      "|2018|    7|187731.87999999998|\n",
      "|2018|    8|          197809.3|\n",
      "|2018|    9|         263973.36|\n",
      "|2018|   10| 448452.9500000002|\n",
      "|2018|   11|1029837.6600000001|\n",
      "|2018|   12|236444.58000000002|\n",
      "|2019|    1|          292688.1|\n",
      "|2019|    2| 311419.5299999999|\n",
      "|2019|    3|205733.72999999992|\n",
      "|2019|    4|206148.12000000008|\n",
      "|2019|    5| 273438.3900000001|\n",
      "|2019|    6|         286674.22|\n",
      "|2019|    7| 327144.0899999998|\n",
      "|2019|    8| 461501.2700000001|\n",
      "+----+-----+------------------+\n",
      "only showing top 20 rows\n",
      "\n"
     ]
    }
   ],
   "source": [
    "from pyspark.sql.functions import month, year, sum\n",
    "\n",
    "# Extract month and year from ORDERDATE\n",
    "data = data.withColumn(\"Month\", month(\"ORDERDATE\"))\n",
    "data = data.withColumn(\"Year\", year(\"ORDERDATE\"))\n",
    "\n",
    "# Calculate monthly sales totals\n",
    "monthly_sales = data.groupBy(\"Year\", \"Month\").agg(sum(\"SALES\").alias(\"TotalSales\"))\n",
    "monthly_sales = monthly_sales.orderBy(\"Year\", \"Month\")\n",
    "\n",
    "# Display results\n",
    "monthly_sales.show()\n",
    "\n",
    "# Save for visualization\n",
    "monthly_sales.write.csv(r\"C:\\BigData\\monthly_sales.csv\", header=True)\n"
   ]
  },
  {
   "cell_type": "code",
   "execution_count": 12,
   "id": "600c561f-adbd-4c96-9e39-3b10d6e01e69",
   "metadata": {},
   "outputs": [
    {
     "name": "stdout",
     "output_type": "stream",
     "text": [
      "+----------------+------------------+\n",
      "|     PRODUCTLINE|        TotalSales|\n",
      "+----------------+------------------+\n",
      "|    Classic Cars|3842868.5399999963|\n",
      "|    Vintage Cars|1806675.6799999995|\n",
      "|Trucks and Buses|1111559.1899999997|\n",
      "|     Motorcycles|1103512.1900000004|\n",
      "|          Planes| 969323.4200000002|\n",
      "|           Ships|         700039.22|\n",
      "|          Trains|226243.46999999997|\n",
      "+----------------+------------------+\n",
      "\n"
     ]
    }
   ],
   "source": [
    "# Aggregate sales by PRODUCTLINE\n",
    "product_line_sales = data.groupBy(\"PRODUCTLINE\").agg(sum(\"SALES\").alias(\"TotalSales\"))\n",
    "\n",
    "# Order by total sales in descending order\n",
    "product_line_sales = product_line_sales.orderBy(\"TotalSales\", ascending=False)\n",
    "\n",
    "# Display results\n",
    "product_line_sales.show()\n",
    "\n",
    "# Save for visualization\n",
    "product_line_sales.write.csv(r\"C:\\BigData/product_line_sales.csv\", header=True)\n"
   ]
  },
  {
   "cell_type": "code",
   "execution_count": 13,
   "id": "b8e161c9-ccef-4452-9faf-8b2842ca0bba",
   "metadata": {},
   "outputs": [
    {
     "name": "stdout",
     "output_type": "stream",
     "text": [
      "+--------+------------------+------------------+\n",
      "|DEALSIZE|        TotalSales|        Percentage|\n",
      "+--------+------------------+------------------+\n",
      "|  Medium|5931231.4700000025| 60.76943379188876|\n",
      "|   Small|2570033.8399999957|26.331715778206394|\n",
      "|   Large| 1258956.400000001|12.898850429904845|\n",
      "+--------+------------------+------------------+\n",
      "\n"
     ]
    }
   ],
   "source": [
    "# Aggregate sales by DEALSIZE\n",
    "deal_size_sales = data.groupBy(\"DEALSIZE\").agg(sum(\"SALES\").alias(\"TotalSales\"))\n",
    "\n",
    "# Calculate percentage contribution\n",
    "from pyspark.sql.functions import col\n",
    "total_sales = deal_size_sales.select(sum(\"TotalSales\")).collect()[0][0]\n",
    "deal_size_sales = deal_size_sales.withColumn(\"Percentage\", (col(\"TotalSales\") / total_sales) * 100)\n",
    "\n",
    "# Display results\n",
    "deal_size_sales.show()\n",
    "\n",
    "# Save for visualization\n",
    "deal_size_sales.write.csv(r\"C:\\BigData/deal_size_sales.csv\", header=True)\n"
   ]
  },
  {
   "cell_type": "code",
   "execution_count": 16,
   "id": "bb52a581-09c6-487e-992b-d430f57664fc",
   "metadata": {},
   "outputs": [
    {
     "name": "stdout",
     "output_type": "stream",
     "text": [
      "+--------------------+------------------+-------------+----------+----------+\n",
      "|        CUSTOMERNAME|        TotalSales|TotalQuantity|OrderCount|   Segment|\n",
      "+--------------------+------------------+-------------+----------+----------+\n",
      "| Suominen Souveniers|113961.14999999997|         1031|        30|High Value|\n",
      "|  Amica Models & Co.| 94117.26000000002|          843|        26|High Value|\n",
      "|Collectables For ...|          81577.98|          795|        24|High Value|\n",
      "|         CAF Imports|          49642.05|          468|        13|High Value|\n",
      "|   giftsbymail.co.uk| 78240.83999999998|          895|        26|High Value|\n",
      "|       Rovelli Gifts|137955.72000000003|         1650|        48|High Value|\n",
      "|     Lyon Souveniers| 78570.34000000001|          684|        20|High Value|\n",
      "|   La Rochelle Gifts|          180124.9|         1832|        53|High Value|\n",
      "| L'ordine Souveniers|142601.33000000002|         1280|        39|High Value|\n",
      "|Signal Collectibl...| 50218.51000000001|          514|        15|High Value|\n",
      "|     Vitachrome Inc.| 88041.26000000001|          787|        25|High Value|\n",
      "|Volvo Model Repli...|          75754.88|          647|        19|High Value|\n",
      "|Daedalus Designs ...|          69052.41|          699|        20|High Value|\n",
      "|Classic Legends Inc.|           77795.2|          720|        20|High Value|\n",
      "|  Signal Gift Stores| 82751.08000000002|          929|        29|High Value|\n",
      "|La Corne D'abonda...| 97203.68000000001|          836|        23|High Value|\n",
      "|Royal Canadian Co...| 74634.84999999999|          873|        26|High Value|\n",
      "|Online Diecast Cr...|131685.30000000002|         1248|        34|High Value|\n",
      "|     Cruz & Sons Co.|          94015.73|          961|        26|High Value|\n",
      "|     Vida Sport, Ltd|117713.55999999998|         1078|        31|High Value|\n",
      "+--------------------+------------------+-------------+----------+----------+\n",
      "only showing top 20 rows\n",
      "\n"
     ]
    }
   ],
   "source": [
    "# Group by CUSTOMERNAME and calculate metrics\n",
    "from pyspark.sql.functions import count, sum, col, when\n",
    "customer_segments = data.groupBy(\"CUSTOMERNAME\").agg(\n",
    "    sum(\"SALES\").alias(\"TotalSales\"),\n",
    "    sum(\"QUANTITYORDERED\").alias(\"TotalQuantity\"),\n",
    "    count(\"ORDERNUMBER\").alias(\"OrderCount\")\n",
    ")\n",
    "\n",
    "# Classify customers into segments based on TotalSales\n",
    "\n",
    "customer_segments = customer_segments.withColumn(\n",
    "    \"Segment\",\n",
    "    when(col(\"TotalSales\") > 10000, \"High Value\")\n",
    "    .when(col(\"TotalSales\") > 5000, \"Medium Value\")\n",
    "    .otherwise(\"Low Value\")\n",
    ")\n",
    "\n",
    "# Display results\n",
    "customer_segments.show()\n",
    "\n",
    "# Save for further use\n",
    "customer_segments.write.csv(r\"C:\\BigData/customer_segments.csv\", header=True)\n"
   ]
  },
  {
   "cell_type": "code",
   "execution_count": 18,
   "id": "00b4c225-20b6-4f1d-8c75-30052763688a",
   "metadata": {},
   "outputs": [
    {
     "name": "stdout",
     "output_type": "stream",
     "text": [
      "+-------------+---------+------------------+\n",
      "|         CITY|  COUNTRY|        TotalSales|\n",
      "+-------------+---------+------------------+\n",
      "|       Madrid|    Spain|1082551.4400000002|\n",
      "|   San Rafael|      USA|         654858.06|\n",
      "|          NYC|      USA| 560787.7699999998|\n",
      "|    Singapore|Singapore|288488.41000000003|\n",
      "|        Paris|   France|         268944.68|\n",
      "|  New Bedford|      USA|         207874.86|\n",
      "|       Nantes|   France|         204304.86|\n",
      "|    Melbourne|Australia|200995.40999999997|\n",
      "|   Brickhaven|      USA|165255.20000000004|\n",
      "|     San Jose|      USA|160010.26999999996|\n",
      "|   Manchester|       UK|157807.80999999997|\n",
      "|       Boston|      USA|154069.65999999997|\n",
      "| North Sydney|Australia|153996.13000000003|\n",
      "|    Chatswood|Australia|151570.98000000004|\n",
      "| Philadelphia|      USA|151189.12999999998|\n",
      "|     Salzburg|  Austria|         149798.63|\n",
      "|    Kobenhavn|  Denmark|          145041.6|\n",
      "|         Lyon|   France|142874.25000000003|\n",
      "|Reggio Emilia|    Italy|142601.33000000002|\n",
      "|    Cambridge|      USA|139243.99999999994|\n",
      "+-------------+---------+------------------+\n",
      "only showing top 20 rows\n",
      "\n"
     ]
    }
   ],
   "source": [
    "# Aggregate sales by CITY and COUNTRY\n",
    "geo_sales = data.groupBy(\"CITY\", \"COUNTRY\").agg(sum(\"SALES\").alias(\"TotalSales\"))\n",
    "\n",
    "# Order by sales in descending order\n",
    "geo_sales = geo_sales.orderBy(\"TotalSales\", ascending=False)\n",
    "\n",
    "# Display results\n",
    "geo_sales.show()\n",
    "\n",
    "# Save for visualization\n",
    "geo_sales.write.csv(r\"C:\\BigData/geo_sales.csv\", header=True)\n"
   ]
  },
  {
   "cell_type": "code",
   "execution_count": 20,
   "id": "4e851998-1818-47f7-85df-d53be36d5c35",
   "metadata": {},
   "outputs": [
    {
     "name": "stdout",
     "output_type": "stream",
     "text": [
      "+---------------+----------------+------------------+-----------+\n",
      "|CONTACTLASTNAME|CONTACTFIRSTNAME|        TotalSales|DealsClosed|\n",
      "+---------------+----------------+------------------+-----------+\n",
      "|         Freyre|           Diego| 912294.1100000002|        259|\n",
      "|         Nelson|         Valarie|         654858.06|        180|\n",
      "|       Ferguson|           Peter|200995.40999999997|         55|\n",
      "|          Young|            Jeff|197736.93999999997|         48|\n",
      "|        Labrune|          Janine|          180124.9|         53|\n",
      "|      Natividad|            Eric|172989.68000000008|         43|\n",
      "|             Yu|            Kwai|164069.44000000003|         49|\n",
      "|          Frick|             Sue|160010.26999999996|         40|\n",
      "|       Ashworth|        Victoria|157807.80999999997|         51|\n",
      "|         O'Hara|            Anna|153996.13000000003|         46|\n",
      "|         Huxley|          Adrian|151570.98000000004|         46|\n",
      "|          Pipps|           Georg|         149798.63|         40|\n",
      "|       Petersen|           Jytte|          145041.6|         36|\n",
      "|        Saveley|            Mary|142874.25000000003|         41|\n",
      "|         Moroni|        Maurizio|142601.33000000002|         39|\n",
      "|        Rovelli|        Giovanni|137955.72000000003|         48|\n",
      "|        Henriot|            Paul|         135042.94|         41|\n",
      "|        Larsson|           Maria|134259.33000000002|         38|\n",
      "|          Young|         Valarie|131685.30000000002|         34|\n",
      "|             Yu|           Kyung|122138.14000000001|         31|\n",
      "+---------------+----------------+------------------+-----------+\n",
      "only showing top 20 rows\n",
      "\n"
     ]
    }
   ],
   "source": [
    "# Aggregate sales and order counts by salesperson (CONTACTLASTNAME, CONTACTFIRSTNAME)\n",
    "salesperson_performance = data.groupBy(\"CONTACTLASTNAME\", \"CONTACTFIRSTNAME\").agg(\n",
    "    sum(\"SALES\").alias(\"TotalSales\"),\n",
    "    count(\"ORDERNUMBER\").alias(\"DealsClosed\")\n",
    ")\n",
    "\n",
    "# Order by total sales in descending order\n",
    "salesperson_performance = salesperson_performance.orderBy(\"TotalSales\", ascending=False)\n",
    "\n",
    "# Display results\n",
    "salesperson_performance.show()\n",
    "\n",
    "# Save for further use\n",
    "salesperson_performance.write.csv(r\"C:\\BigData/salesperson_performance.csv\", header=True)\n"
   ]
  },
  {
   "cell_type": "code",
   "execution_count": null,
   "id": "43298705-ad8b-40cb-afae-c4c4af37cb7b",
   "metadata": {},
   "outputs": [],
   "source": []
  }
 ],
 "metadata": {
  "kernelspec": {
   "display_name": "Python 3 (ipykernel)",
   "language": "python",
   "name": "python3"
  },
  "language_info": {
   "codemirror_mode": {
    "name": "ipython",
    "version": 3
   },
   "file_extension": ".py",
   "mimetype": "text/x-python",
   "name": "python",
   "nbconvert_exporter": "python",
   "pygments_lexer": "ipython3",
   "version": "3.12.0"
  }
 },
 "nbformat": 4,
 "nbformat_minor": 5
}
